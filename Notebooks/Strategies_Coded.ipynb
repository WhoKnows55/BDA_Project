{
 "cells": [
  {
   "cell_type": "markdown",
   "id": "6afc330e",
   "metadata": {},
   "source": [
    "# Strategies Code for BDA"
   ]
  },
  {
   "cell_type": "markdown",
   "id": "8386047f",
   "metadata": {},
   "source": [
    "Available columns:\n",
    "date (e.g., 2025-03-01)\n",
    "\n",
    "predicted_price (forecasted closing price per day for the full year, excluding weekends)\n",
    "\n",
    "✅ Updated Plan:\n",
    "Since there’s no “today’s actual price”, we simulate each strategy by:\n",
    "\n",
    "Comparing predicted price on day i vs. predicted price on day i + N\n",
    "\n",
    "Then calculate % return and assign \"Buy\", \"Sell\", or \"Hold\""
   ]
  },
  {
   "cell_type": "code",
   "execution_count": null,
   "id": "69ccafe3",
   "metadata": {},
   "outputs": [],
   "source": [
    "# Load the CSV here"
   ]
  },
  {
   "cell_type": "code",
   "execution_count": 1,
   "id": "a201640e",
   "metadata": {},
   "outputs": [],
   "source": [
    "def compute_return(start_price, future_price):\n",
    "    return (future_price - start_price) / start_price * 100"
   ]
  },
  {
   "cell_type": "markdown",
   "id": "3bfd7135",
   "metadata": {},
   "source": [
    "### Daily Strategy:"
   ]
  },
  {
   "cell_type": "code",
   "execution_count": null,
   "id": "248b72d5",
   "metadata": {},
   "outputs": [],
   "source": [
    "# Daily strategy (~1-day lookahead)\n",
    "def daily_strategy(df):\n",
    "    for i in range(len(df) - 1):\n",
    "        today = df.loc[i, \"predicted_price\"]\n",
    "        tomorrow = df.loc[i + 1, \"predicted_price\"]\n",
    "        ret = compute_return(today, tomorrow)\n",
    "\n",
    "        if ret >= 2.5:\n",
    "            df.loc[i, \"daily_advice\"] = \"Buy\"\n",
    "        elif ret <= -2.5:\n",
    "            df.loc[i, \"daily_advice\"] = \"Sell\"\n",
    "        else:\n",
    "            df.loc[i, \"daily_advice\"] = \"Hold\"\n"
   ]
  },
  {
   "cell_type": "markdown",
   "id": "21312321",
   "metadata": {},
   "source": [
    "### Monthly Strategy\n"
   ]
  },
  {
   "cell_type": "code",
   "execution_count": 2,
   "id": "6498bee7",
   "metadata": {},
   "outputs": [],
   "source": [
    "# Monthly (~21 trading days ahead)\n",
    "def monthly_strategy(df):\n",
    "    for i in range(len(df) - 21):\n",
    "        today = df.loc[i, \"predicted_price\"]\n",
    "        future = df.loc[i + 21, \"predicted_price\"]\n",
    "        ret = compute_return(today, future)\n",
    "\n",
    "        if ret >= 5:\n",
    "            df.loc[i, \"monthly_advice\"] = \"Buy\"\n",
    "        elif ret <= -3:\n",
    "            df.loc[i, \"monthly_advice\"] = \"Sell\"\n",
    "        else:\n",
    "            df.loc[i, \"monthly_advice\"] = \"Hold\"\n"
   ]
  },
  {
   "cell_type": "markdown",
   "id": "67e49e82",
   "metadata": {},
   "source": [
    "### Quarterly Strategy"
   ]
  },
  {
   "cell_type": "code",
   "execution_count": 3,
   "id": "1da88b7f",
   "metadata": {},
   "outputs": [],
   "source": [
    "# Quarterly (~63 trading days)\n",
    "def quarterly_strategy(df):\n",
    "    for i in range(len(df) - 63):\n",
    "        today = df.loc[i, \"predicted_price\"]\n",
    "        future = df.loc[i + 63, \"predicted_price\"]\n",
    "        ret = compute_return(today, future)\n",
    "\n",
    "        if ret >= 8:\n",
    "            df.loc[i, \"quarterly_advice\"] = \"Buy\"\n",
    "        elif ret <= -5:\n",
    "            df.loc[i, \"quarterly_advice\"] = \"Sell\"\n",
    "        else:\n",
    "            df.loc[i, \"quarterly_advice\"] = \"Hold\"\n"
   ]
  },
  {
   "cell_type": "markdown",
   "id": "fd1ed850",
   "metadata": {},
   "source": [
    "### Yearly Strategy"
   ]
  },
  {
   "cell_type": "code",
   "execution_count": 4,
   "id": "7f7f45a0",
   "metadata": {},
   "outputs": [],
   "source": [
    "# Yearly (~252 trading days)\n",
    "def yearly_strategy(df):\n",
    "    for i in range(len(df) - 252):\n",
    "        today = df.loc[i, \"predicted_price\"]\n",
    "        future = df.loc[i + 252, \"predicted_price\"]\n",
    "        ret = compute_return(today, future)\n",
    "\n",
    "        if ret >= 15:\n",
    "            df.loc[i, \"yearly_advice\"] = \"Buy\"\n",
    "        elif ret <= -10:\n",
    "            df.loc[i, \"yearly_advice\"] = \"Sell\"\n",
    "        else:\n",
    "            df.loc[i, \"yearly_advice\"] = \"Hold\""
   ]
  }
 ],
 "metadata": {
  "kernelspec": {
   "display_name": "base",
   "language": "python",
   "name": "python3"
  },
  "language_info": {
   "codemirror_mode": {
    "name": "ipython",
    "version": 3
   },
   "file_extension": ".py",
   "mimetype": "text/x-python",
   "name": "python",
   "nbconvert_exporter": "python",
   "pygments_lexer": "ipython3",
   "version": "3.12.2"
  }
 },
 "nbformat": 4,
 "nbformat_minor": 5
}
