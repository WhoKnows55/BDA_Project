{
 "cells": [
  {
   "cell_type": "code",
   "execution_count": 1,
   "id": "f6b5f201",
   "metadata": {},
   "outputs": [
    {
     "name": "stdout",
     "output_type": "stream",
     "text": [
      "                                           Task  Start_Week  End_Week   Start  \\\n",
      "0            Project proposal & topic Selection           1         2  0 days   \n",
      "1                               Data Collection           2         3  7 days   \n",
      "2                     Exploratory Data Analysis           3         5 14 days   \n",
      "3                       Big Data Pre-Processing           4         6 21 days   \n",
      "4   Exploratory Analysis into Model Development           5         7 28 days   \n",
      "5           Fine-Tuning/Optimizing Chosen Model           7        10 42 days   \n",
      "6           Visualization of Results & Insights           9        11 56 days   \n",
      "7                          Final Report Writing          10        11 63 days   \n",
      "8                      Presentation preparation          11        12 70 days   \n",
      "9                              Own set deadline          12        13 77 days   \n",
      "10               Presentation/Discussion period          13        14 84 days   \n",
      "\n",
      "       End Duration  \n",
      "0  14 days  14 days  \n",
      "1  21 days  14 days  \n",
      "2  35 days  21 days  \n",
      "3  42 days  21 days  \n",
      "4  49 days  21 days  \n",
      "5  70 days  28 days  \n",
      "6  77 days  21 days  \n",
      "7  77 days  14 days  \n",
      "8  84 days  14 days  \n",
      "9  91 days  14 days  \n",
      "10 98 days  14 days  \n"
     ]
    }
   ],
   "source": [
    "import pandas as pd\n",
    "\n",
    "# Define the task data (Task name, Start week, End week)\n",
    "tasks = [\n",
    "    (\"Project proposal & topic Selection\", 1, 2),\n",
    "    (\"Data Collection\", 2, 3),\n",
    "    (\"Exploratory Data Analysis\", 3, 5),\n",
    "    (\"Big Data Pre-Processing\", 4, 6),\n",
    "    (\"Exploratory Analysis into Model Development\", 5, 7),\n",
    "    (\"Fine-Tuning/Optimizing Chosen Model\", 7, 10),\n",
    "    (\"Visualization of Results & Insights\", 9, 11),\n",
    "    (\"Final Report Writing\", 10, 11),\n",
    "    (\"Presentation preparation\", 11, 12),\n",
    "    (\"Own set deadline\", 12, 13),\n",
    "    (\"Presentation/Discussion period\", 13, 14),\n",
    "]\n",
    "\n",
    "# Create the DataFrame\n",
    "df_gantt = pd.DataFrame(tasks, columns=[\"Task\", \"Start_Week\", \"End_Week\"])\n",
    "\n",
    "# Convert week numbers into timedelta (simulate weekly timeline)\n",
    "df_gantt[\"Start\"] = pd.to_timedelta(df_gantt[\"Start_Week\"] - 1, unit=\"W\")\n",
    "df_gantt[\"End\"] = pd.to_timedelta(df_gantt[\"End_Week\"], unit=\"W\")\n",
    "df_gantt[\"Duration\"] = df_gantt[\"End\"] - df_gantt[\"Start\"]\n",
    "\n",
    "# Display the DataFrame\n",
    "print(df_gantt)"
   ]
  }
 ],
 "metadata": {
  "kernelspec": {
   "display_name": "base",
   "language": "python",
   "name": "python3"
  },
  "language_info": {
   "codemirror_mode": {
    "name": "ipython",
    "version": 3
   },
   "file_extension": ".py",
   "mimetype": "text/x-python",
   "name": "python",
   "nbconvert_exporter": "python",
   "pygments_lexer": "ipython3",
   "version": "3.12.2"
  }
 },
 "nbformat": 4,
 "nbformat_minor": 5
}
